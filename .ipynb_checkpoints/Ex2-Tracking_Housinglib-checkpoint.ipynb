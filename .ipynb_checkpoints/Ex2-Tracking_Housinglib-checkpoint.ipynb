{
 "cells": [
  {
   "cell_type": "code",
   "execution_count": 1,
   "id": "1d9a9de4",
   "metadata": {},
   "outputs": [],
   "source": [
    "import gethousevalue2.medianvalue as mv\n",
    "from mlflow.tracking import MlflowClient\n",
    "import mlflow\n",
    "import mlflow.sklearn\n",
    "import os"
   ]
  },
  {
   "cell_type": "code",
   "execution_count": 2,
   "id": "617dfc44",
   "metadata": {
    "scrolled": true
   },
   "outputs": [
    {
     "name": "stderr",
     "output_type": "stream",
     "text": [
      "2023/06/30 22:48:18 WARNING mlflow.utils.git_utils: Failed to import Git (the Git executable is probably not on your PATH), so Git SHA is not available. Error: Failed to initialize: Bad git executable.\n",
      "The git executable must be specified in one of the following ways:\n",
      "    - be included in your $PATH\n",
      "    - be set via $GIT_PYTHON_GIT_EXECUTABLE\n",
      "    - explicitly set via git.refresh()\n",
      "\n",
      "All git commands will error until this is rectified.\n",
      "\n",
      "This initial warning can be silenced or aggravated in the future by setting the\n",
      "$GIT_PYTHON_REFRESH environment variable. Use one of the following values:\n",
      "    - quiet|q|silence|s|none|n|0: for no warning or exception\n",
      "    - warn|w|warning|1: for a printed warning\n",
      "    - error|e|raise|r|2: for a raised exception\n",
      "\n",
      "Example:\n",
      "    export GIT_PYTHON_REFRESH=quiet\n",
      "\n"
     ]
    },
    {
     "name": "stdout",
     "output_type": "stream",
     "text": [
      "Level 0 Run ID: 488813b1d993434ab2922c4fdb66e22f\n",
      "Child ID: e40dcea634de4c069b88b77149a0e3d9\n"
     ]
    },
    {
     "name": "stderr",
     "output_type": "stream",
     "text": [
      "C:\\Users\\sameer.malhotra\\AppData\\Local\\anaconda3\\lib\\site-packages\\_distutils_hack\\__init__.py:33: UserWarning: Setuptools is replacing distutils.\n",
      "  warnings.warn(\"Setuptools is replacing distutils.\")\n"
     ]
    },
    {
     "name": "stdout",
     "output_type": "stream",
     "text": [
      "Child ID: e868cb0470dc4220bc3afb8555019a72\n",
      "Child ID: b715fc401ba94c0797db39ed5dd37545\n",
      "Child ID: 25438374fa9648fabf78d25291f332db\n",
      "Child ID: 009a77cea37e4c28ba5dd502166d6d36\n",
      "Child ID: bc885f48a7264454bd28f9b8b6f8c7fb\n",
      "Child ID: f3416996f4c14e14b65a7bde20871b77\n",
      "Child ID: 2205f6402f274149863049b281f975ef\n",
      "Child ID: 881df66760c44173b9976c74c2dd4907\n",
      "Child ID: dc78e92648474ceeab5c78206182483d\n",
      "Child ID: 65343ef1b61d41ddb6779a2babd8db82\n",
      "Child ID: 5012fa81f82140f1972367b2796e12ef\n",
      "Child ID: 41e25f32478f499b856e141c7f7e8bf1\n",
      "Child ID: edaf7d8b7302448cb172dc9a5b78846a\n",
      "Child ID: 6f78456b43364806a1191ed5b4828749\n",
      "Child ID: ee7b5f12762e407ca1cfbbfdf3d77c0c\n",
      "Child ID: 291fc14906b24386b081d7bb4df52ad5\n",
      "Child ID: 5b0136060f504713ad868df4637a6424\n",
      "Child ID: b93fe68c0c6740a4b346e5936a7139bb\n",
      "Child ID: 3f8a578357604d21beff6e93ef25f837\n",
      "Child ID: 2550a0adf3be42979c4a4af6de803736\n",
      "Child ID: eb851cc87f03412cad904d2cf8294a4b\n",
      "Child ID: 6944d0ad626d4f75868a53e3ba7aa5b7\n",
      "Child ID: 4bf546f1a31441e1b1af47bc76c9480b\n",
      "Child ID: 61fcc9b891204e25a265b7788d04e0f8\n",
      "Child ID: 5b3ba8598bf843e2ba4fc3c4b2656aa0\n",
      "Child ID: 10332ccaecc445fda142524a988b1f44\n"
     ]
    }
   ],
   "source": [
    "\n",
    "data_path = os.path.join(os.getcwd(), 'datasets', 'housing')\n",
    "\n",
    "client = MlflowClient()\n",
    "\n",
    "try:\n",
    "    Experiment_id = mlflow.create_experiment(\"HousingValue_Exp1\")\n",
    "except:\n",
    "    Experiment_id = client.get_experiment_by_name('HousingValue_Exp1').experiment_id  \n",
    "    \n",
    "with mlflow.start_run(run_name=\"PARENT_RUN\",\n",
    "                      experiment_id=Experiment_id,\n",
    "                      tags={\"version\": \"v1\", \"priority\": \"P1\"},\n",
    "                      description=\"parent\",\n",
    "                     ) as parent_run:\n",
    "    \n",
    "    print(\"Level 0 Run ID: {}\".format(parent_run.info.run_id))\n",
    "    mlflow.log_param(\"Level\", \"0\")\n",
    "    \n",
    "    Train_data, Test_data = mv.ingest_data()\n",
    "\n",
    "    for model_type in ['Linear','DecisionTree','RandomForest']:    \n",
    "        \n",
    "        with mlflow.start_run(run_name=\"CHILD_RUN\",\n",
    "                              experiment_id=Experiment_id,\n",
    "                              description=\"child\",\n",
    "                              nested=True,\n",
    "                              ) as child_run:\n",
    "        \n",
    "            print(\"Child ID: {}\".format(child_run.info.run_id))\n",
    "            mlflow.log_params({'model': model_type, 'Level':'1'})\n",
    "            mlflow.log_artifacts(data_path)\n",
    "            \n",
    "            \n",
    "            if model_type=='RandomForest':\n",
    "                \n",
    "                for n_Estimators in range(10, 70, 10):\n",
    "                    for max_Features in [4, 6, 8, 10]:\n",
    "                \n",
    "                        with mlflow.start_run(run_name=\"CHILD_L2_RUN\",\n",
    "                                              experiment_id=Experiment_id,\n",
    "                                              description=\"child_L2\",\n",
    "                                              nested=True,\n",
    "                                              ) as child_l2_run:\n",
    "\n",
    "                            print(\"Child ID: {}\".format(child_l2_run.info.run_id))\n",
    "                            mlflow.log_params({'Level':'2',\n",
    "                                               'n_estimators':n_Estimators,\n",
    "                                               'max_features':max_Features})\n",
    "\n",
    "                            prediction_model = mv.train(Train_data, \n",
    "                                                        model_type, \n",
    "                                                        N_Estimators=n_Estimators, \n",
    "                                                        Max_Features=max_Features)\n",
    "                            \n",
    "                            rmse_score = mv.score(Train_data, Test_data, prediction_model)\n",
    "\n",
    "                            mlflow.log_metrics({\"rmse\": rmse_score})\n",
    "                            mlflow.sklearn.log_model(prediction_model, model_type)\n",
    "                \n",
    "                \n",
    "            else:\n",
    "            \n",
    "                prediction_model = mv.train(Train_data, model_type)\n",
    "                rmse_score = mv.score(Train_data, Test_data, prediction_model)\n",
    "\n",
    "                mlflow.log_metrics({\"rmse\": rmse_score})\n",
    "                mlflow.sklearn.log_model(prediction_model, model_type)\n",
    "\n"
   ]
  },
  {
   "cell_type": "code",
   "execution_count": null,
   "id": "f573025f",
   "metadata": {},
   "outputs": [],
   "source": []
  }
 ],
 "metadata": {
  "kernelspec": {
   "display_name": "Python 3 (ipykernel)",
   "language": "python",
   "name": "python3"
  },
  "language_info": {
   "codemirror_mode": {
    "name": "ipython",
    "version": 3
   },
   "file_extension": ".py",
   "mimetype": "text/x-python",
   "name": "python",
   "nbconvert_exporter": "python",
   "pygments_lexer": "ipython3",
   "version": "3.10.9"
  }
 },
 "nbformat": 4,
 "nbformat_minor": 5
}
